{
 "cells": [
  {
   "cell_type": "markdown",
   "metadata": {},
   "source": [
    "<div style=\"padding:30px; color: white; background-color: #0071CD\">\n",
    "<center>\n",
    "<img src=\"img/logoub.jpeg\"></img>\n",
    "<center>\n",
    "<p>\n",
    "<h1>Algorítmica Avanzada</h1>\n",
    "<h2>Problemas 2 - Grafos </h2>\n",
    "</center>\n",
    "</p>\n",
    "</div>"
   ]
  },
  {
   "cell_type": "markdown",
   "metadata": {},
   "source": [
    "<div class=\"alert alert-danger\" style=\"width:95%; margin:0 auto; padding\">\n",
    "<center><p><h2> ¡¡IMPORTANTE!! </h2></p> </center> \n",
    "\n",
    "<p>\n",
    "Para la realización de esta práctica tendréis que utilizar la clase de grafos NetworkX y <b>NO</b> la clase `Graph` que implementasteis en la Práctica 0. Hay casos muy concretos que no contemplan los tests y podría hacer que vuestros algoritmos no funcionen correctamente. NetworkX tiene una interfaz muy similar a la librería <i>Graph</i> que implementasteis la semana pasada. Para más información podéis consultar la documentación de la librería <a href=\"https://networkx.github.io/documentation/latest/reference/introduction.html\">aquí.</a>\n",
    "</p>\n",
    "</div>"
   ]
  },
  {
   "cell_type": "markdown",
   "metadata": {},
   "source": [
    "<div class=\"alert alert-success\" style=\"width:90%; margin:0 auto;\">\n",
    "\n",
    "  <h2><p>1- Bellman-Ford</p></h2>\n",
    "  <p>\n",
    " En esta segunda parte de la práctica se propone que implementéis el algoritmo <a href=\"https://es.wikipedia.org/wiki/Algoritmo_de_Bellman-Ford#Algoritmo\">Bellman Ford</a> (explicado en teoría) para encontrar el camino más corto entre dos nodos de un grafo dirigido.\n",
    "      <h3> Este ejercicio deberéis entregarlo!</h3>\n",
    "</p>\n",
    " \n",
    "    "
   ]
  },
  {
   "cell_type": "markdown",
   "metadata": {},
   "source": [
    "<div class=\"alert alert-danger\" style=\"width:80%; margin:0 auto; padding\">\n",
    "<center><p><h3> Código </h3></p> </center>\n",
    "<p>\n",
    "<h3>INPUT</h3>\n",
    "<ul>\n",
    "<li><b>G</b>: Este es el grafo que utilizaremos para buscar el camino. Debe de ser un objeto de tipo `nx.DiGraph` (grafo dirigido, ya que, como recordaréis de la teoría, Bellman Ford funciona sobre grafos dirigidos).</li>\n",
    "<li><b>origen</b>: Este parámetro corresponde al índice de un nodo. En este caso, deberá ser un entero <i>(e.g. 231)</i>.</li>\n",
    "<li><b>destino</b>: El indice del nodo al que queremos llegar. Igual que el origen, deberá ser un entero.</li>\n",
    "</ul>\n",
    "<br>\n",
    "<h3>OUTPUT</h3>\n",
    "El output de la funcion es un <b>diccionario</b> que contiene los siguientes valores\n",
    "<ul>\n",
    "<li><b>'path'</b>: Una lista de índices correspondientes al camino encontrado del nodo inicial al nodo final (ambos nodos, origen y destino, han de estar incluidos en esta lista).</li>\n",
    "<li><b>'expanded'</b>: El numero de nodos que se han visitado para encontrar la solución.</li>\n",
    "<li><b>'distance'</b>: La distancia del camino mínimo desde el origen hasta el destino.\n",
    "<ul>\n",
    "\n",
    "</p>\n",
    "</div>\n"
   ]
  },
  {
   "cell_type": "code",
   "execution_count": null,
   "metadata": {},
   "outputs": [],
   "source": [
    "# Recordad que en Python podemos representar el infinito mediante float('inf')\n",
    "import networkx as nx\n",
    "\n",
    "def bellman_ford(G, origen, destino):\n",
    "    return {\n",
    "        'path': [],\n",
    "        'expanded': 0,\n",
    "        'distance': 0\n",
    "    }"
   ]
  },
  {
   "cell_type": "markdown",
   "metadata": {},
   "source": [
    "Para comprobar si vuestro algoritmo funciona podéis generar <a href=\"https://networkx.github.io/documentation/networkx-2.3/reference/generators.html#module-networkx.generators.directed\">grafos aleatorios con NetworkX</a>, así como comparar vuestros resultados con los que devuelve la función <a href=\"https://networkx.github.io/documentation/stable/reference/algorithms/generated/networkx.algorithms.shortest_paths.weighted.bellman_ford_path.html#networkx-algorithms-shortest-paths-weighted-bellman-ford-path\">bellman_ford</a> de esta misma librería."
   ]
  },
  {
   "cell_type": "code",
   "execution_count": null,
   "metadata": {},
   "outputs": [],
   "source": [
    "import networkx as nx\n",
    "from random import choice\n",
    "\n",
    "# CREA UN GRAFO ALEATORIO\n",
    "G = nx.generators.random_k_out_graph(20,5,0.5)\n",
    "#nx.draw_circular(G) # Podéis usar esta función para visualizar el grafo\n",
    "\n",
    "# DEFINE UN ORIGEN Y UN DESTINO ALEATORIOS\n",
    "origin = choice(list(G.nodes()))\n",
    "target = choice(list(G.nodes()))\n",
    "print(\"O: \",origin,\" D: \",target)\n",
    "\n",
    "# CALCULA RESULTADOS CON NX\n",
    "path = nx.algorithms.shortest_paths.bellman_ford_path(G, origin, target) # A veces da error, ejecutadlo con otro grafo\n",
    "dist = nx.algorithms.shortest_paths.bellman_ford_path_length(G, origin, target)\n",
    "print(\"NX_Path: \", path , \" NX_Dist: \",dist)\n",
    "\n",
    "# CALCULA RESULTADOS CON TU ALGORITMO\n",
    "#my_result = bellman_ford(G,origin,target)\n",
    "#print(\"Path: \", my_result['path'], \" Dist: \", my_result['distance'])"
   ]
  },
  {
   "cell_type": "markdown",
   "metadata": {},
   "source": [
    "<div class=\"alert alert-danger\" style=\"width:80%; margin:0 auto; padding\">\n",
    "Es <b>imperativo <font size=3.5 color=\"#FF0000\">☠☠☠ respetar las cabeceras de las funciones y estructura del return ☠☠☠</font></b> que se indiquen en el enunciado. Pese a que leemos y corregimos vuestros códigos en detalle, empleamos correctores automáticos para guiar y agilizar el proceso. De esta manera, si se pide que la función tenga la siguiente estructura:\n",
    "\n",
    "<code>def funcion_ejercicio(lista1, indice1):\n",
    "    ... # implementación de la solución\n",
    "    return elemento_resultado </code>\n",
    "    \n",
    "En el notebook deberá existir una y solo una función con el nombre <i>funcion_ejercicio</i> que reciba exactamente los parámetros indicados y devuelva las variables en el formato y con el tipo que se requiera en el eunciado. En todos los enunciados se explicitará qué tipo de datos han de pasarse a las funciones y devolverse. <b> La no adherencia al formato de las funciones <font size=3.5 color=\"#FF0000\">☠☠☠ conllevará a una puntuación nula sobre ese ejercicio. ☠☠☠</font> </b>\n",
    "</div>"
   ]
  },
  {
   "cell_type": "markdown",
   "metadata": {},
   "source": [
    "<div class=\"alert alert-info\">\n",
    "<center>\n",
    "  <h1>Entrega</h1>\n",
    "</center>\n",
    "\n",
    "<p>\n",
    "La entrega se podrá realizar en el campus virtual hasta el día <b>25 de Octubre a las 23:55</b>. En la tarea que se habilitará en el campus deberéis colgar únicamente este notebook con el nombre:\n",
    "</p>\n",
    "<p>\n",
    "    <code>[grupo]_[apellido]_[nombre]_Grafos_2.ipynb</code>\n",
    "\n",
    "\n",
    "</p>\n",
    "<p>\n",
    "    Por ejemplo, para un alumno llamado <i>Nombre Genérico Estándar</i> que asiste al <i>grupo Z</i> de clases presenciales*, el nombre del archivo debería ser:\n",
    "</p>\n",
    "<p>\n",
    "<code>Z_Generico_Nombre_Grafos_2.ipynb</code>\n",
    "    <br>\n",
    "Y <b>NO</b>:\n",
    "<ul>\n",
    "<li>Z00_Generico_Nombre_Grafos_2.zip</li>\n",
    "    \n",
    "<li>ZX_Generico_Nombre_Grafos_2.ipynb</li>\n",
    "\n",
    "<li>Lab2_Generico_Nombre_Grafos_2.rar</li>\n",
    "\n",
    "<li>Grafos_2.ipynb</li>\n",
    "<li> ... literalmente cualquier otra cosa. </li>\n",
    "</ul>\n",
    "</p>\n",
    "<p>\n",
    "\n",
    "\n",
    "Es fundamental que el código esté bién comentado.\n",
    "<p>\n",
    "<b> <font size=3.5 color=\"#FF0000\">☠☠☠ No adherirse al formato en el nombre del archivo así como entregar otro tipo de archivo o varios archivos, conllevará a la no corrección de vuestra práctica. ☠☠☠</font></b>\n",
    "</p>\n",
    "</p>\n",
    "*: Los posibles grupos de las clases presenciales son: A, B, C, D, F.\n",
    "</div>"
   ]
  },
  {
   "cell_type": "code",
   "execution_count": null,
   "metadata": {},
   "outputs": [],
   "source": []
  }
 ],
 "metadata": {
  "kernelspec": {
   "display_name": "Python 3",
   "language": "python",
   "name": "python3"
  },
  "language_info": {
   "codemirror_mode": {
    "name": "ipython",
    "version": 3
   },
   "file_extension": ".py",
   "mimetype": "text/x-python",
   "name": "python",
   "nbconvert_exporter": "python",
   "pygments_lexer": "ipython3",
   "version": "3.8.3"
  }
 },
 "nbformat": 4,
 "nbformat_minor": 1
}
