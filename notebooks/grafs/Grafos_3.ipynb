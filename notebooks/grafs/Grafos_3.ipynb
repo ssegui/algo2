{
 "cells": [
  {
   "cell_type": "markdown",
   "metadata": {},
   "source": [
    "<div style=\"padding:30px; color: white; background-color: #0071CD\">\n",
    "<center>\n",
    "<img src=\"img/logoub.jpeg\"></img>\n",
    "<center>\n",
    "<p>\n",
    "<h1>Algorítmica Avanzada</h1>\n",
    "<h2>Problemas 3 - Grafos </h2>\n",
    "</center>\n",
    "</p>\n",
    "</div>"
   ]
  },
  {
   "cell_type": "markdown",
   "metadata": {},
   "source": [
    "<div class=\"alert alert-danger\" style=\"width:95%; margin:0 auto; padding\">\n",
    "<center><p><h2> ¡¡IMPORTANTE!! </h2></p> </center> \n",
    "\n",
    "<p>\n",
    "Para la realización de esta práctica tendréis que utilizar la clase de grafos NetworkX y <b>NO</b> la clase `Graph` que implementasteis en la Práctica 0. Hay casos muy concretos que no contemplan los tests y podría hacer que vuestros algoritmos no funcionen correctamente. NetworkX tiene una interfaz muy similar a la librería <i>Graph</i> que implementasteis la semana pasada. Para más información podéis consultar la documentación de la librería <a href=\"https://networkx.github.io/documentation/latest/reference/introduction.html\">aquí.</a>\n",
    "</p>\n",
    "</div>"
   ]
  },
  {
   "cell_type": "markdown",
   "metadata": {},
   "source": [
    "<div class=\"alert alert-success\" style=\"width:90%; margin:0 auto;\">\n",
    "\n",
    "  <h2><p>0 - Detección de ciclos</p></h2>\n",
    "  <p>\n",
    "  En este ejercicio deberéis implementar un algoritmo capaz de detectar si un grafo cualquiera contiene ciclos.\n",
    "</p>\n",
    " \n",
    "    "
   ]
  },
  {
   "cell_type": "markdown",
   "metadata": {},
   "source": [
    "<div class=\"alert alert-danger\" style=\"width:80%; margin:0 auto; padding\">\n",
    "<center><p><h3> Código </h3></p> </center>\n",
    "<p>\n",
    "<h3>INPUT</h3>\n",
    "<ul>\n",
    "<li><b>G</b>: Este es el grafo que utilizaremos para buscar ciclos. Debe de ser un objeto de tipo `nx.Graph`.</li>\n",
    "</ul>\n",
    "<br>\n",
    "<h3>OUTPUT</h3>\n",
    "<ul>\n",
    "<li><b>TF</b>: booleano indicando la presencia (True) o ausencia (False) de ciclos.</li>\n",
    "<ul>\n",
    "\n",
    "</p>\n",
    "</div>\n"
   ]
  },
  {
   "cell_type": "code",
   "execution_count": null,
   "metadata": {},
   "outputs": [],
   "source": [
    "def cycles(G):\n",
    "    \"\"\" CODE HERE \"\"\"\n",
    "    return TF"
   ]
  },
  {
   "cell_type": "code",
   "execution_count": 2,
   "metadata": {},
   "outputs": [],
   "source": [
    "# TEST\n",
    "from utils import random_graph\n",
    "\n",
    "# GENERATE RANDOM GRAPH\n",
    "G = random_graph()\n",
    "cycles(G)"
   ]
  },
  {
   "cell_type": "markdown",
   "metadata": {},
   "source": [
    "<div class=\"alert alert-success\" style=\"width:90%; margin:0 auto;\">\n",
    "  <h2><p>1 - Circuito Euleriano</p></h2>\n",
    "  <p>\n",
    "  Se define como circuito euleriano aquel que pasa por todas las aristas de un grafo una única vez y que acaba en el mismo lugar en el que empieza. El problema de los caminos eulerianos fué la base de toda la teoría de grafos y fué postulado por Lehonard Euler en el famoso problema de <b>los siete puentes de Königsberg</b>. En este problema Euler se preguntaba si podía acabar en el mismo sitio tras cruzar todos los puentes una sola vez.\n",
    "  </p>\n",
    "  <img src=\"img/konigsberg.jpg\"></img>\n",
    "  <p>\n",
    "    En este ejercicio se os propone implementar un algoritmo que, dado un grafo <i>G</i> encuentre un camino euleriano.\n",
    "  </p>\n",
    "  \n",
    "  <h3> Este ejercicio deberéis entregarlo!</h3>\n"
   ]
  },
  {
   "cell_type": "markdown",
   "metadata": {},
   "source": [
    "<div class=\"alert alert-danger\" style=\"width:80%; margin:0 auto; padding:auto\">\n",
    "<center><p><h3> Código </h3></p> </center> \n",
    "\n",
    "<h3>INPUT</h3>\n",
    "<ul>\n",
    "<li><b>G</b>: Objeto de tipo grafo (<i>nx.Graph</i>) sobre el cual queremos encontrar el circuito Euleriano.</li>\n",
    "</ul>\n",
    "<br>\n",
    "<h3>OUTPUT</h3>\n",
    "<ul>\n",
    "    <li><b>nodelist</b>: Una lista de nodos ordenados que formarían el circuito.</li>\n",
    "</ul>\n",
    "\n",
    "<b>NOTA:</b> no siempre será posible encontrar un circuito euleriano. Vuestro algoritmo deberá ser capaz de detectar cuando NO es posible. En tal caso, deberá avisar al usuario (<i>print</i>) y no retornará ningún valor.\n",
    "    \n",
    "</div>\n"
   ]
  },
  {
   "cell_type": "code",
   "execution_count": 6,
   "metadata": {},
   "outputs": [],
   "source": [
    "def euler(G):\n",
    "    \"\"\" CODE HERE \"\"\"\n",
    "    return []"
   ]
  },
  {
   "cell_type": "markdown",
   "metadata": {},
   "source": [
    "<div class=\"alert alert-warning\">\n",
    "<h1>Pregunta</h1>\n",
    "<p><strong>\n",
    "¿Qué condiciones se deben de cumplir para que un grafo cualquiera contenga un circuito euleriano? Demuéstralo.\n",
    "</strong></p>\n",
    "</div>"
   ]
  },
  {
   "cell_type": "markdown",
   "metadata": {},
   "source": [
    "<div class=\"alert alert-warning\">\n",
    "<h1>Extra</h1>\n",
    "<p><strong>\n",
    "Además de circuitos Eulerianos, definimos caminos Eulerianos aquellos que recorren todas las aristas de un grafo sin repetirlas, pero no termina en el mismo nodo que empieza. Modifica el algoritmo anterior para que sea capaz de detectar si el grafo contiene un ciclo o un camino Euleriano, y devuelva la lista de nodos ordenados que componen dicho ciclo o camino. Tened en cuenta que son casos excluyentes.\n",
    "</strong></p>\n",
    "    \n",
    "<h3>Esta pregunta es opcional pero se reflejará positivamente en la nota!</h3>\n",
    "\n",
    "</div>"
   ]
  },
  {
   "cell_type": "markdown",
   "metadata": {},
   "source": [
    "<div class=\"alert alert-danger\" style=\"width:80%; margin:0 auto; padding\">\n",
    "Es <b>imperativo <font size=3.5 color=\"#FF0000\">☠☠☠ respetar las cabeceras de las funciones y estructura del return ☠☠☠</font></b> que se indiquen en el enunciado. Pese a que leemos y corregimos vuestros códigos en detalle, empleamos correctores automáticos para guiar y agilizar el proceso. De esta manera, si se pide que la función tenga la siguiente estructura:\n",
    "\n",
    "<code>def funcion_ejercicio(lista1, indice1):\n",
    "    ... # implementación de la solución\n",
    "    return elemento_resultado </code>\n",
    "    \n",
    "En el notebook deberá existir una y solo una función con el nombre <i>funcion_ejercicio</i> que reciba exactamente los parámetros indicados y devuelva las variables en el formato y con el tipo que se requiera en el eunciado. En todos los enunciados se explicitará qué tipo de datos han de pasarse a las funciones y devolverse. <b> La no adherencia al formato de las funciones <font size=3.5 color=\"#FF0000\">☠☠☠ conllevará a una puntuación nula sobre ese ejercicio. ☠☠☠</font> </b>\n",
    "</div>"
   ]
  },
  {
   "cell_type": "markdown",
   "metadata": {},
   "source": [
    "<div class=\"alert alert-info\">\n",
    "<center>\n",
    "  <h1>Entrega</h1>\n",
    "</center>\n",
    "\n",
    "<p>\n",
    "La entrega se podrá realizar en el campus virtual hasta el día <b>1 de Noviembre a las 23:55</b>. En la tarea que se habilitará en el campus deberéis colgar únicamente este notebook con el nombre:\n",
    "</p>\n",
    "<p>\n",
    "    <code>[grupo]_[apellido]_[nombre]_Grafos_3.ipynb</code>\n",
    "\n",
    "\n",
    "</p>\n",
    "<p>\n",
    "    Por ejemplo, para un alumno llamado <i>Nombre Genérico Estándar</i> que asiste al <i>grupo Z</i> de clases presenciales*, el nombre del archivo debería ser:\n",
    "</p>\n",
    "<p>\n",
    "<code>Z_Generico_Nombre_Grafos_3.ipynb</code>\n",
    "    <br>\n",
    "Y <b>NO</b>:\n",
    "<ul>\n",
    "<li>Z00_Generico_Nombre_Grafos_3.zip</li>\n",
    "    \n",
    "<li>ZX_Generico_Nombre_Grafos_3.ipynb</li>\n",
    "\n",
    "<li>Lab2_Generico_Nombre_Grafos_3.rar</li>\n",
    "\n",
    "<li>Grafos_3.ipynb</li>\n",
    "<li> ... literalmente cualquier otra cosa. </li>\n",
    "</ul>\n",
    "</p>\n",
    "<p>\n",
    "\n",
    "\n",
    "Es fundamental que el código esté bién comentado.\n",
    "<p>\n",
    "<b> <font size=3.5 color=\"#FF0000\">☠☠☠ No adherirse al formato en el nombre del archivo así como entregar otro tipo de archivo o varios archivos, conllevará a la no corrección de vuestra práctica. ☠☠☠</font></b>\n",
    "</p>\n",
    "</p>\n",
    "*: Los posibles grupos de las clases presenciales son: A, B, C, D, F.\n",
    "</div>"
   ]
  }
 ],
 "metadata": {
  "kernelspec": {
   "display_name": "Python 3",
   "language": "python",
   "name": "python3"
  },
  "language_info": {
   "codemirror_mode": {
    "name": "ipython",
    "version": 3
   },
   "file_extension": ".py",
   "mimetype": "text/x-python",
   "name": "python",
   "nbconvert_exporter": "python",
   "pygments_lexer": "ipython3",
   "version": "3.6.7"
  }
 },
 "nbformat": 4,
 "nbformat_minor": 1
}
